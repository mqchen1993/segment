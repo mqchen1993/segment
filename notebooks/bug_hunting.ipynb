{
 "cells": [
  {
   "cell_type": "code",
   "execution_count": 19,
   "metadata": {},
   "outputs": [],
   "source": [
    "from segment.data.ircad import IRCAD2D\n",
    "from torch.utils.data import DataLoader"
   ]
  },
  {
   "cell_type": "code",
   "execution_count": 20,
   "metadata": {},
   "outputs": [
    {
     "name": "stdout",
     "output_type": "stream",
     "text": [
      "Num slices: 129\n",
      "Num slices: 389\n"
     ]
    }
   ],
   "source": [
    "DATAPATH = '/Users/youngtodd/data/3DIRCADb1'\n",
    "ircad = IRCAD2D(DATAPATH)"
   ]
  },
  {
   "cell_type": "code",
   "execution_count": 21,
   "metadata": {},
   "outputs": [
    {
     "name": "stdout",
     "output_type": "stream",
     "text": [
      "Total number of sliced between two patients: 389\n",
      "Slices is of type <class 'list'>\n",
      "Each index of the list is a <class 'numpy.ndarray'>\n",
      "First array in slices has shape (512, 512)\n",
      "Last array in slices has shape (512, 512)\n"
     ]
    }
   ],
   "source": [
    "print(f'Total number of sliced between two patients: {len(ircad.slices)}')\n",
    "print(f'Slices is of type {type(ircad.slices)}')\n",
    "print(f'Each index of the list is a {type(ircad.slices[0])}')\n",
    "print(f'First array in slices has shape {ircad.slices[0].shape}')\n",
    "print(f'Last array in slices has shape {ircad.slices[388].shape}')"
   ]
  },
  {
   "cell_type": "code",
   "execution_count": 22,
   "metadata": {},
   "outputs": [
    {
     "name": "stdout",
     "output_type": "stream",
     "text": [
      "img 0 has shape (512, 512)\n",
      "img 1 has shape (512, 512)\n",
      "img 2 has shape (512, 512)\n",
      "img 3 has shape (512, 512)\n",
      "img 4 has shape (512, 512)\n",
      "img 5 has shape (512, 512)\n",
      "img 6 has shape (512, 512)\n",
      "img 7 has shape (512, 512)\n",
      "img 8 has shape (512, 512)\n",
      "img 9 has shape (512, 512)\n"
     ]
    }
   ],
   "source": [
    "for i in range(len(ircad.slices)):\n",
    "    print(f'img {i} has shape {ircad.slices[i].shape}')\n",
    "    if i == 9:\n",
    "        break"
   ]
  },
  {
   "cell_type": "code",
   "execution_count": 23,
   "metadata": {},
   "outputs": [],
   "source": [
    "trainloader = DataLoader(ircad)"
   ]
  },
  {
   "cell_type": "code",
   "execution_count": 24,
   "metadata": {},
   "outputs": [
    {
     "name": "stdout",
     "output_type": "stream",
     "text": [
      "image 0 has shape torch.Size([1, 512, 512])\n",
      "image 1 has shape torch.Size([1, 512, 512])\n"
     ]
    }
   ],
   "source": [
    "for batch_idx, img in enumerate(trainloader):\n",
    "    print(f'image {batch_idx} has shape {img.shape}')"
   ]
  },
  {
   "cell_type": "code",
   "execution_count": null,
   "metadata": {},
   "outputs": [],
   "source": []
  }
 ],
 "metadata": {
  "kernelspec": {
   "display_name": "Python 3",
   "language": "python",
   "name": "python3"
  },
  "language_info": {
   "codemirror_mode": {
    "name": "ipython",
    "version": 3
   },
   "file_extension": ".py",
   "mimetype": "text/x-python",
   "name": "python",
   "nbconvert_exporter": "python",
   "pygments_lexer": "ipython3",
   "version": "3.6.5"
  }
 },
 "nbformat": 4,
 "nbformat_minor": 2
}
